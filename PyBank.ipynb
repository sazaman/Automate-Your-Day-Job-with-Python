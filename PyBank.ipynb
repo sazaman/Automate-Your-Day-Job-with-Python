{
 "cells": [
  {
   "cell_type": "code",
   "execution_count": 132,
   "metadata": {},
   "outputs": [],
   "source": [
    "from pathlib import Path\n",
    "import csv\n",
    "\n",
    "csvpath = Path('../PyBank/budget_data.csv')\n",
    "\n",
    "with open(csvpath, 'r') as csvfile:\n",
    "    csvreader = csv.reader(csvfile, delimiter=',')\n",
    "    \n",
    "    months = 0\n",
    "    profit_losses = 0\n",
    "    previous_month_profit_loss = 0\n",
    "    this_month_profit_loss = 0\n",
    "    average_of_change = 0\n",
    "    greatest_increase_date = 0\n",
    "    greatest_increase_amount = 0\n",
    "    greatest_decrease_date = 0\n",
    "    greatest_decrease_amount = 0\n",
    "    \n",
    "    \n",
    "    for row in csvreader:\n",
    "        if row[0] != 'Date':\n",
    "            months = months +1\n",
    "            previous_month_profit_loss = this_month_profit_loss\n",
    "            this_month_profit_loss = int(row[1])\n",
    "            profit_losses = profit_losses + this_month_profit_loss\n",
    "            if previous_month_profit_loss != 0:\n",
    "                average_of_change = average_of_change + this_month_profit_loss - previous_month_profit_loss\n",
    "                \n",
    "                if this_month_profit_loss - previous_month_profit_loss > greatest_increase_amount:\n",
    "                    greatest_increase_amount = this_month_profit_loss - previous_month_profit_loss\n",
    "                    greatest_increase_date = row[0]\n",
    "                    \n",
    "                if this_month_profit_loss - previous_month_profit_loss < greatest_decrease_amount:\n",
    "                    greatest_decrease_amount = this_month_profit_loss - previous_month_profit_loss\n",
    "                    greatest_decrease_date = row[0]\n",
    "\n",
    "average_of_change = average_of_change / (months -1)                    "
   ]
  },
  {
   "cell_type": "code",
   "execution_count": 133,
   "metadata": {},
   "outputs": [
    {
     "name": "stdout",
     "output_type": "stream",
     "text": [
      "Financial Analysis\n",
      "----------------------------\n",
      "Total Months: 86\n",
      "Total: $38382578\n",
      "Average Change: $-2315.12\n",
      "Greatest Increase in Profits: $('Feb-2012', 1926159)\n",
      "Greatest Decrease in Profits: $('Sep-2013', -2196167)\n"
     ]
    }
   ],
   "source": [
    "print(\"Financial Analysis\")\n",
    "print(\"----------------------------\")        \n",
    "print(f\"Total Months:\", months) \n",
    "print(f\"Total: ${(profit_losses)}\")\n",
    "print(f\"Average Change: ${round(average_of_change, 2)}\")\n",
    "print(f\"Greatest Increase in Profits: ${(greatest_increase_date, greatest_increase_amount)}\")\n",
    "print(f\"Greatest Decrease in Profits: ${(greatest_decrease_date, greatest_decrease_amount)}\")"
   ]
  },
  {
   "cell_type": "code",
   "execution_count": 136,
   "metadata": {},
   "outputs": [],
   "source": [
    "output_path = \"Financial Analysis.txt\"\n",
    "with open(output_path, 'w') as file: \n",
    "    \n",
    "    file.write(f\"Financial Analysis\")\n",
    "    file.write(\"\\n\")\n",
    "    file.write(f\"----------------------------\\n\")  \n",
    "    file.write(f\"Total Months: {months}\\n\")\n",
    "    file.write(f\"Total: ${profit_losses}\\n\")\n",
    "    file.write(f\"Average Change: ${round(average_of_change, 2)}\\n\")\n",
    "    file.write(f\"Greatest Increase in Profits: ${(greatest_increase_date, greatest_increase_amount)}\\n\")\n",
    "    file.write((f\"Greatest Decrease in Profits: ${(greatest_decrease_date, greatest_decrease_amount)}\"))"
   ]
  },
  {
   "cell_type": "code",
   "execution_count": 86,
   "metadata": {},
   "outputs": [],
   "source": [
    "#Your resulting analysis should look similar to the following:\n",
    "#Financial Analysis\n",
    "#----------------------------\n",
    "#Total Months: 86\n",
    "#Total: $38382578\n",
    "#Average  Change: $-2315.12\n",
    "#Greatest Increase in Profits: Feb-2012 ($1926159)\n",
    "#Greatest Decrease in Profits: Sep-2013 ($-2196167)\n",
    "#Your final script should print the analysis to the terminal and export a text file with the results."
   ]
  }
 ],
 "metadata": {
  "kernelspec": {
   "display_name": "Python 3",
   "language": "python",
   "name": "python3"
  },
  "language_info": {
   "codemirror_mode": {
    "name": "ipython",
    "version": 3
   },
   "file_extension": ".py",
   "mimetype": "text/x-python",
   "name": "python",
   "nbconvert_exporter": "python",
   "pygments_lexer": "ipython3",
   "version": "3.7.6"
  }
 },
 "nbformat": 4,
 "nbformat_minor": 4
}
